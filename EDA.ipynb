{
  "cells": [
    {
      "cell_type": "markdown",
      "metadata": {
        "id": "view-in-github",
        "colab_type": "text"
      },
      "source": [
        "<a href=\"https://colab.research.google.com/github/Yarlagaddatarun/EDA/blob/main/EDA.ipynb\" target=\"_parent\"><img src=\"https://colab.research.google.com/assets/colab-badge.svg\" alt=\"Open In Colab\"/></a>"
      ]
    },
    {
      "cell_type": "markdown",
      "id": "339b09b6",
      "metadata": {
        "id": "339b09b6"
      },
      "source": [
        "###### import pandas as pd\n",
        "import numpy as np\n",
        "import matplotlib.pyplot as plt\n",
        "import seaborn as sns"
      ]
    },
    {
      "cell_type": "code",
      "execution_count": null,
      "id": "5b4e1f1e",
      "metadata": {
        "id": "5b4e1f1e",
        "outputId": "a0457f9e-99ab-4800-d8bf-1853fa0df7fd"
      },
      "outputs": [
        {
          "data": {
            "text/html": [
              "<div>\n",
              "<style scoped>\n",
              "    .dataframe tbody tr th:only-of-type {\n",
              "        vertical-align: middle;\n",
              "    }\n",
              "\n",
              "    .dataframe tbody tr th {\n",
              "        vertical-align: top;\n",
              "    }\n",
              "\n",
              "    .dataframe thead th {\n",
              "        text-align: right;\n",
              "    }\n",
              "</style>\n",
              "<table border=\"1\" class=\"dataframe\">\n",
              "  <thead>\n",
              "    <tr style=\"text-align: right;\">\n",
              "      <th></th>\n",
              "      <th>Datetime</th>\n",
              "      <th>Temperature</th>\n",
              "      <th>Humidity</th>\n",
              "      <th>WindSpeed</th>\n",
              "      <th>GeneralDiffuseFlows</th>\n",
              "      <th>DiffuseFlows</th>\n",
              "      <th>PowerConsumption_Zone1</th>\n",
              "      <th>PowerConsumption_Zone2</th>\n",
              "      <th>PowerConsumption_Zone3</th>\n",
              "    </tr>\n",
              "  </thead>\n",
              "  <tbody>\n",
              "    <tr>\n",
              "      <th>0</th>\n",
              "      <td>1/1/2017 0:00</td>\n",
              "      <td>6.559</td>\n",
              "      <td>73.8</td>\n",
              "      <td>0.083</td>\n",
              "      <td>0.051</td>\n",
              "      <td>0.119</td>\n",
              "      <td>34055.69620</td>\n",
              "      <td>16128.87538</td>\n",
              "      <td>20240.96386</td>\n",
              "    </tr>\n",
              "    <tr>\n",
              "      <th>1</th>\n",
              "      <td>1/1/2017 0:10</td>\n",
              "      <td>6.414</td>\n",
              "      <td>74.5</td>\n",
              "      <td>0.083</td>\n",
              "      <td>0.070</td>\n",
              "      <td>0.085</td>\n",
              "      <td>29814.68354</td>\n",
              "      <td>19375.07599</td>\n",
              "      <td>20131.08434</td>\n",
              "    </tr>\n",
              "    <tr>\n",
              "      <th>2</th>\n",
              "      <td>1/1/2017 0:20</td>\n",
              "      <td>6.313</td>\n",
              "      <td>74.5</td>\n",
              "      <td>0.080</td>\n",
              "      <td>0.062</td>\n",
              "      <td>0.100</td>\n",
              "      <td>29128.10127</td>\n",
              "      <td>19006.68693</td>\n",
              "      <td>19668.43373</td>\n",
              "    </tr>\n",
              "    <tr>\n",
              "      <th>3</th>\n",
              "      <td>1/1/2017 0:30</td>\n",
              "      <td>6.121</td>\n",
              "      <td>75.0</td>\n",
              "      <td>0.083</td>\n",
              "      <td>0.091</td>\n",
              "      <td>0.096</td>\n",
              "      <td>28228.86076</td>\n",
              "      <td>18361.09422</td>\n",
              "      <td>18899.27711</td>\n",
              "    </tr>\n",
              "    <tr>\n",
              "      <th>4</th>\n",
              "      <td>1/1/2017 0:40</td>\n",
              "      <td>5.921</td>\n",
              "      <td>75.7</td>\n",
              "      <td>0.081</td>\n",
              "      <td>0.048</td>\n",
              "      <td>0.085</td>\n",
              "      <td>27335.69620</td>\n",
              "      <td>17872.34043</td>\n",
              "      <td>18442.40964</td>\n",
              "    </tr>\n",
              "  </tbody>\n",
              "</table>\n",
              "</div>"
            ],
            "text/plain": [
              "        Datetime  Temperature  Humidity  WindSpeed  GeneralDiffuseFlows  \\\n",
              "0  1/1/2017 0:00        6.559      73.8      0.083                0.051   \n",
              "1  1/1/2017 0:10        6.414      74.5      0.083                0.070   \n",
              "2  1/1/2017 0:20        6.313      74.5      0.080                0.062   \n",
              "3  1/1/2017 0:30        6.121      75.0      0.083                0.091   \n",
              "4  1/1/2017 0:40        5.921      75.7      0.081                0.048   \n",
              "\n",
              "   DiffuseFlows  PowerConsumption_Zone1  PowerConsumption_Zone2  \\\n",
              "0         0.119             34055.69620             16128.87538   \n",
              "1         0.085             29814.68354             19375.07599   \n",
              "2         0.100             29128.10127             19006.68693   \n",
              "3         0.096             28228.86076             18361.09422   \n",
              "4         0.085             27335.69620             17872.34043   \n",
              "\n",
              "   PowerConsumption_Zone3  \n",
              "0             20240.96386  \n",
              "1             20131.08434  \n",
              "2             19668.43373  \n",
              "3             18899.27711  \n",
              "4             18442.40964  "
            ]
          },
          "execution_count": 2,
          "metadata": {},
          "output_type": "execute_result"
        }
      ],
      "source": [
        "data=pd.read_csv('powerconsumption.csv')\n",
        "data.head()"
      ]
    },
    {
      "cell_type": "code",
      "execution_count": null,
      "id": "1af7fbe5",
      "metadata": {
        "id": "1af7fbe5",
        "outputId": "e7edaa77-f1c1-4086-b62c-780ed94ea18d"
      },
      "outputs": [
        {
          "data": {
            "text/plain": [
              "Index(['Datetime', 'Temperature', 'Humidity', 'WindSpeed',\n",
              "       'GeneralDiffuseFlows', 'DiffuseFlows', 'PowerConsumption_Zone1',\n",
              "       'PowerConsumption_Zone2', 'PowerConsumption_Zone3'],\n",
              "      dtype='object')"
            ]
          },
          "execution_count": 3,
          "metadata": {},
          "output_type": "execute_result"
        }
      ],
      "source": [
        "data.columns"
      ]
    },
    {
      "cell_type": "code",
      "execution_count": null,
      "id": "cbc4ef0b",
      "metadata": {
        "id": "cbc4ef0b",
        "outputId": "eaa18a95-f57e-420f-fa64-811760dfe9e0"
      },
      "outputs": [
        {
          "data": {
            "text/plain": [
              "(52416, 9)"
            ]
          },
          "execution_count": 4,
          "metadata": {},
          "output_type": "execute_result"
        }
      ],
      "source": [
        "data.shape"
      ]
    },
    {
      "cell_type": "code",
      "execution_count": null,
      "id": "97b9d609",
      "metadata": {
        "id": "97b9d609",
        "outputId": "02c8af3a-4571-4350-ab69-e76307a8fa15"
      },
      "outputs": [
        {
          "name": "stdout",
          "output_type": "stream",
          "text": [
            "<class 'pandas.core.frame.DataFrame'>\n",
            "RangeIndex: 52416 entries, 0 to 52415\n",
            "Data columns (total 9 columns):\n",
            " #   Column                  Non-Null Count  Dtype  \n",
            "---  ------                  --------------  -----  \n",
            " 0   Datetime                52416 non-null  object \n",
            " 1   Temperature             52416 non-null  float64\n",
            " 2   Humidity                52416 non-null  float64\n",
            " 3   WindSpeed               52416 non-null  float64\n",
            " 4   GeneralDiffuseFlows     52416 non-null  float64\n",
            " 5   DiffuseFlows            52416 non-null  float64\n",
            " 6   PowerConsumption_Zone1  52416 non-null  float64\n",
            " 7   PowerConsumption_Zone2  52416 non-null  float64\n",
            " 8   PowerConsumption_Zone3  52416 non-null  float64\n",
            "dtypes: float64(8), object(1)\n",
            "memory usage: 3.6+ MB\n"
          ]
        }
      ],
      "source": [
        "data.info()"
      ]
    },
    {
      "cell_type": "code",
      "execution_count": null,
      "id": "dcb867e4",
      "metadata": {
        "id": "dcb867e4",
        "outputId": "fa80fcfa-3be8-4649-aefd-56875f6d201d"
      },
      "outputs": [
        {
          "data": {
            "text/plain": [
              "Datetime                  0\n",
              "Temperature               0\n",
              "Humidity                  0\n",
              "WindSpeed                 0\n",
              "GeneralDiffuseFlows       0\n",
              "DiffuseFlows              0\n",
              "PowerConsumption_Zone1    0\n",
              "PowerConsumption_Zone2    0\n",
              "PowerConsumption_Zone3    0\n",
              "dtype: int64"
            ]
          },
          "execution_count": 6,
          "metadata": {},
          "output_type": "execute_result"
        }
      ],
      "source": [
        "data.isnull().sum()"
      ]
    },
    {
      "cell_type": "code",
      "execution_count": null,
      "id": "027e85f2",
      "metadata": {
        "id": "027e85f2",
        "outputId": "bfb76fb5-f3f0-4efc-d908-a182742b5bdf"
      },
      "outputs": [
        {
          "data": {
            "text/html": [
              "<div>\n",
              "<style scoped>\n",
              "    .dataframe tbody tr th:only-of-type {\n",
              "        vertical-align: middle;\n",
              "    }\n",
              "\n",
              "    .dataframe tbody tr th {\n",
              "        vertical-align: top;\n",
              "    }\n",
              "\n",
              "    .dataframe thead th {\n",
              "        text-align: right;\n",
              "    }\n",
              "</style>\n",
              "<table border=\"1\" class=\"dataframe\">\n",
              "  <thead>\n",
              "    <tr style=\"text-align: right;\">\n",
              "      <th></th>\n",
              "      <th>Temperature</th>\n",
              "      <th>Humidity</th>\n",
              "      <th>WindSpeed</th>\n",
              "      <th>GeneralDiffuseFlows</th>\n",
              "      <th>DiffuseFlows</th>\n",
              "      <th>PowerConsumption_Zone1</th>\n",
              "      <th>PowerConsumption_Zone2</th>\n",
              "      <th>PowerConsumption_Zone3</th>\n",
              "    </tr>\n",
              "  </thead>\n",
              "  <tbody>\n",
              "    <tr>\n",
              "      <th>count</th>\n",
              "      <td>52416.000000</td>\n",
              "      <td>52416.000000</td>\n",
              "      <td>52416.000000</td>\n",
              "      <td>52416.000000</td>\n",
              "      <td>52416.000000</td>\n",
              "      <td>52416.000000</td>\n",
              "      <td>52416.000000</td>\n",
              "      <td>52416.000000</td>\n",
              "    </tr>\n",
              "    <tr>\n",
              "      <th>mean</th>\n",
              "      <td>18.810024</td>\n",
              "      <td>68.259518</td>\n",
              "      <td>1.959489</td>\n",
              "      <td>182.696614</td>\n",
              "      <td>75.028022</td>\n",
              "      <td>32344.970564</td>\n",
              "      <td>21042.509082</td>\n",
              "      <td>17835.406218</td>\n",
              "    </tr>\n",
              "    <tr>\n",
              "      <th>std</th>\n",
              "      <td>5.815476</td>\n",
              "      <td>15.551177</td>\n",
              "      <td>2.348862</td>\n",
              "      <td>264.400960</td>\n",
              "      <td>124.210949</td>\n",
              "      <td>7130.562564</td>\n",
              "      <td>5201.465892</td>\n",
              "      <td>6622.165099</td>\n",
              "    </tr>\n",
              "    <tr>\n",
              "      <th>min</th>\n",
              "      <td>3.247000</td>\n",
              "      <td>11.340000</td>\n",
              "      <td>0.050000</td>\n",
              "      <td>0.004000</td>\n",
              "      <td>0.011000</td>\n",
              "      <td>13895.696200</td>\n",
              "      <td>8560.081466</td>\n",
              "      <td>5935.174070</td>\n",
              "    </tr>\n",
              "    <tr>\n",
              "      <th>25%</th>\n",
              "      <td>14.410000</td>\n",
              "      <td>58.310000</td>\n",
              "      <td>0.078000</td>\n",
              "      <td>0.062000</td>\n",
              "      <td>0.122000</td>\n",
              "      <td>26310.668692</td>\n",
              "      <td>16980.766032</td>\n",
              "      <td>13129.326630</td>\n",
              "    </tr>\n",
              "    <tr>\n",
              "      <th>50%</th>\n",
              "      <td>18.780000</td>\n",
              "      <td>69.860000</td>\n",
              "      <td>0.086000</td>\n",
              "      <td>5.035500</td>\n",
              "      <td>4.456000</td>\n",
              "      <td>32265.920340</td>\n",
              "      <td>20823.168405</td>\n",
              "      <td>16415.117470</td>\n",
              "    </tr>\n",
              "    <tr>\n",
              "      <th>75%</th>\n",
              "      <td>22.890000</td>\n",
              "      <td>81.400000</td>\n",
              "      <td>4.915000</td>\n",
              "      <td>319.600000</td>\n",
              "      <td>101.000000</td>\n",
              "      <td>37309.018185</td>\n",
              "      <td>24713.717520</td>\n",
              "      <td>21624.100420</td>\n",
              "    </tr>\n",
              "    <tr>\n",
              "      <th>max</th>\n",
              "      <td>40.010000</td>\n",
              "      <td>94.800000</td>\n",
              "      <td>6.483000</td>\n",
              "      <td>1163.000000</td>\n",
              "      <td>936.000000</td>\n",
              "      <td>52204.395120</td>\n",
              "      <td>37408.860760</td>\n",
              "      <td>47598.326360</td>\n",
              "    </tr>\n",
              "  </tbody>\n",
              "</table>\n",
              "</div>"
            ],
            "text/plain": [
              "        Temperature      Humidity     WindSpeed  GeneralDiffuseFlows  \\\n",
              "count  52416.000000  52416.000000  52416.000000         52416.000000   \n",
              "mean      18.810024     68.259518      1.959489           182.696614   \n",
              "std        5.815476     15.551177      2.348862           264.400960   \n",
              "min        3.247000     11.340000      0.050000             0.004000   \n",
              "25%       14.410000     58.310000      0.078000             0.062000   \n",
              "50%       18.780000     69.860000      0.086000             5.035500   \n",
              "75%       22.890000     81.400000      4.915000           319.600000   \n",
              "max       40.010000     94.800000      6.483000          1163.000000   \n",
              "\n",
              "       DiffuseFlows  PowerConsumption_Zone1  PowerConsumption_Zone2  \\\n",
              "count  52416.000000            52416.000000            52416.000000   \n",
              "mean      75.028022            32344.970564            21042.509082   \n",
              "std      124.210949             7130.562564             5201.465892   \n",
              "min        0.011000            13895.696200             8560.081466   \n",
              "25%        0.122000            26310.668692            16980.766032   \n",
              "50%        4.456000            32265.920340            20823.168405   \n",
              "75%      101.000000            37309.018185            24713.717520   \n",
              "max      936.000000            52204.395120            37408.860760   \n",
              "\n",
              "       PowerConsumption_Zone3  \n",
              "count            52416.000000  \n",
              "mean             17835.406218  \n",
              "std               6622.165099  \n",
              "min               5935.174070  \n",
              "25%              13129.326630  \n",
              "50%              16415.117470  \n",
              "75%              21624.100420  \n",
              "max              47598.326360  "
            ]
          },
          "execution_count": 7,
          "metadata": {},
          "output_type": "execute_result"
        }
      ],
      "source": [
        "data.describe()"
      ]
    },
    {
      "cell_type": "code",
      "execution_count": null,
      "id": "06ded02c",
      "metadata": {
        "id": "06ded02c",
        "outputId": "af684283-3f3b-4b49-bf48-2d58b40cb393"
      },
      "outputs": [
        {
          "data": {
            "text/plain": [
              "<AxesSubplot:xlabel='PowerConsumption_Zone1', ylabel='Count'>"
            ]
          },
          "execution_count": 8,
          "metadata": {},
          "output_type": "execute_result"
        },
        {
          "data": {
            "image/png": "[encoded data removed]",
            "text/plain": [
              "<Figure size 432x288 with 1 Axes>"
            ]
          },
          "metadata": {
            "needs_background": "light"
          },
          "output_type": "display_data"
        }
      ],
      "source": [
        "sns.histplot(x='PowerConsumption_Zone1',data=data)\n",
        "plt.title()"
      ]
    },
    {
      "cell_type": "code",
      "execution_count": null,
      "id": "0cc5c54c",
      "metadata": {
        "id": "0cc5c54c",
        "outputId": "9e82792e-7593-4c57-ae39-cb6e15f12e0d"
      },
      "outputs": [
        {
          "ename": "SyntaxError",
          "evalue": "invalid syntax (4040199462.py, line 1)",
          "output_type": "error",
          "traceback": [
            "\u001b[1;36m  Input \u001b[1;32mIn [9]\u001b[1;36m\u001b[0m\n\u001b[1;33m    col =\u001b[0m\n\u001b[1;37m          ^\u001b[0m\n\u001b[1;31mSyntaxError\u001b[0m\u001b[1;31m:\u001b[0m invalid syntax\n"
          ]
        }
      ],
      "source": [
        "col = \n",
        "row = \n",
        "num_cols = data."
      ]
    }
  ],
  "metadata": {
    "kernelspec": {
      "display_name": "Python 3 (ipykernel)",
      "language": "python",
      "name": "python3"
    },
    "language_info": {
      "codemirror_mode": {
        "name": "ipython",
        "version": 3
      },
      "file_extension": ".py",
      "mimetype": "text/x-python",
      "name": "python",
      "nbconvert_exporter": "python",
      "pygments_lexer": "ipython3",
      "version": "3.9.12"
    },
    "colab": {
      "provenance": [],
      "include_colab_link": true
    }
  },
  "nbformat": 4,
  "nbformat_minor": 5
}